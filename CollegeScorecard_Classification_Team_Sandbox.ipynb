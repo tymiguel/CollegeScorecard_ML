{
 "cells": [
  {
   "cell_type": "markdown",
   "metadata": {},
   "source": [
    "# MA755 - Team Sandbox\n",
    "\n",
    "Material from _Chapter 3. Classification_ of\n",
    "\n",
    ">\"[Hands-On Machine Learning with Scikit-Learn and TensorFlow](http://shop.oreilly.com/product/0636920052289.do)\"<br>\n",
    "by Aurélien Géron\n",
    "Published by O'Reilly Media, Inc., 2017\n",
    "\n",
    "Annotations, comments, and implementation on dataset by Angela Su, Tyler Miguel, Sebastian Bury"
   ]
  },
  {
   "cell_type": "markdown",
   "metadata": {},
   "source": [
    "# Introduction"
   ]
  },
  {
   "cell_type": "markdown",
   "metadata": {},
   "source": [
    "This is a College Scorecard dataset that gives various information about university and student level factors, such as college addmission, cost and finanaical aid, and student body demographics. This data is designed to \"increase transparency\" of \"college costs and outcomes\" to help students and families make informed decisions about the cost of furthering education. The data provided is aggregated at the institutional levels.\n",
    "\n",
    "In this notebook, we will be working with this data to perform a supervised learning technique to classify institutions based on the mean income a student at that institution earns, 10 years after graduating. We will look to classify each institution into one of three groups: low, medium, and high earnings. But first, we will load in the require packages that will use throughout the analysis."
   ]
  },
  {
   "cell_type": "markdown",
   "metadata": {},
   "source": [
    "# Load Packages"
   ]
  },
  {
   "cell_type": "code",
   "execution_count": 55,
   "metadata": {
    "collapsed": true
   },
   "outputs": [],
   "source": [
    "# add packages that we use\n",
    "# and then come back to this to remove this tetxt\n",
    "\n",
    "import os\n",
    "import zipfile\n",
    "from six.moves import urllib\n",
    "\n",
    "import pandas as pd\n",
    "import matplotlib\n",
    "import matplotlib.pyplot as plt\n",
    "%matplotlib inline\n",
    "import seaborn as sns\n",
    "\n",
    "from sklearn.model_selection import train_test_split\n",
    "from sklearn.linear_model    import LogisticRegression\n",
    "from sklearn.metrics         import confusion_matrix\n",
    "from sklearn.metrics         import precision_score\n",
    "from sklearn.metrics         import recall_score\n",
    "from sklearn.metrics         import roc_curve\n",
    "from sklearn.metrics         import roc_auc_score\n",
    "\n",
    "from sklearn.linear_model    import SGDClassifier\n",
    "from sklearn.model_selection import cross_val_predict\n",
    "\n",
    "\n"
   ]
  },
  {
   "cell_type": "code",
   "execution_count": null,
   "metadata": {
    "collapsed": true
   },
   "outputs": [],
   "source": [
    "# not yet used (don't run)\n",
    "\n",
    "from sklearn.datasets.mldata import fetch_mldata\n",
    "\n",
    "from sklearn.model_selection import cross_val_score\n",
    "from sklearn.preprocessing   import LabelBinarizer\n",
    "from sklearn.preprocessing   import StandardScaler\n",
    "from sklearn.multiclass      import OneVsRestClassifier\n",
    "from sklearn.multiclass      import OneVsOneClassifier\n",
    "from scipy.stats             import describe\n",
    "from sklearn.calibration     import CalibratedClassifierCV"
   ]
  },
  {
   "cell_type": "markdown",
   "metadata": {},
   "source": [
    "# Import Data\n",
    "\n",
    "We start by downloading the dataset from online. To do this, we created a function to download the data from the US Department of Education website and extract the files from the zip file."
   ]
  },
  {
   "cell_type": "code",
   "execution_count": 2,
   "metadata": {
    "collapsed": true
   },
   "outputs": [],
   "source": [
    "DOWNLOAD_ROOT = \"https://ed-public-download.apps.cloud.gov/\"\n",
    "COLLEGE_PATH = \"downloads\"\n",
    "COLLEGE_URL = DOWNLOAD_ROOT + COLLEGE_PATH + \"/CollegeScorecard_Raw_Data.zip\"\n",
    "TO_PATH = \"datasets/college\"\n",
    "\n",
    "def fetch_college_data(college_url=COLLEGE_URL, to_path=TO_PATH):\n",
    "    os.makedirs(to_path, exist_ok=True)\n",
    "    zip_path = os.path.join(to_path, \"CollegeScorecard_Raw_Data.zip\")\n",
    "    urllib.request.urlretrieve(college_url, zip_path)\n",
    "    college_zip = zipfile.ZipFile(zip_path)\n",
    "    college_zip.extractall(path=to_path)\n",
    "    college_zip.close()"
   ]
  },
  {
   "cell_type": "code",
   "execution_count": null,
   "metadata": {
    "collapsed": true
   },
   "outputs": [],
   "source": [
    "fetch_college_data() # only run if you don't already have the data local"
   ]
  },
  {
   "cell_type": "markdown",
   "metadata": {},
   "source": [
    "The file `CollegeScorecard_Raw_Data.zip` is downloaded into the `datasets/college` directory. The unzipped `CollegeScorecard_Raw_Data` is created in the same directory. The file `MERGED2012_13_PP.csv`, which contains the most recent earnings data from College Scorecard data is stored in the `CollegeScorecard_Raw_Data` directory. \n",
    "\n",
    "We will load `MERGED2012_13_PP.csv` into our notebook. Additionally, we will load `MERGED2014_15_PP.csv` into our notebook so that we can extract key descriptive information about the universities that is not present in the `MERGED2012_13_PP.csv` file. \n",
    "\n",
    "In addition to loading the CSV into our notebook, we will do some data cleaning within our `load_college_data()` function to ensure the data structure of the features in the CSV file. Specifically, we noticed the file contained the string value \"PrivacySuppressed\" in many numeric fields. We converted these to `NaN` values. Furthermore, some of the string values in our dataframe were not rendering correct, so we explicitly stated the `dtype` of three columns, `ZIP`, `NPCURL`, and `ALIAS`.\n"
   ]
  },
  {
   "cell_type": "code",
   "execution_count": 3,
   "metadata": {
    "collapsed": true
   },
   "outputs": [],
   "source": [
    "def load_college_data(file, data_path=TO_PATH):\n",
    "    csv_path = os.path.join(data_path, \"CollegeScoreCard_Raw_Data\",\n",
    "                            file)\n",
    "    return pd.read_csv(csv_path, na_values = \"PrivacySuppressed\", \n",
    "                       dtype = {'ZIP':str,\n",
    "                                'NPCURL':str,\n",
    "                                'ALIAS':str})"
   ]
  },
  {
   "cell_type": "markdown",
   "metadata": {},
   "source": [
    "Load the data from the `MERGED2012_13_PP.csv` and `MERGED2014_15_PP.csv` file into a `DataFrame` Pandas object stored in `college`. "
   ]
  },
  {
   "cell_type": "code",
   "execution_count": 4,
   "metadata": {
    "collapsed": false
   },
   "outputs": [
    {
     "name": "stdout",
     "output_type": "stream",
     "text": [
      "<class 'pandas.core.frame.DataFrame'>\n"
     ]
    },
    {
     "data": {
      "text/html": [
       "<div>\n",
       "<table border=\"1\" class=\"dataframe\">\n",
       "  <thead>\n",
       "    <tr style=\"text-align: right;\">\n",
       "      <th></th>\n",
       "      <th>﻿UNITID</th>\n",
       "      <th>OPEID</th>\n",
       "      <th>OPEID6</th>\n",
       "      <th>INSTNM</th>\n",
       "      <th>CITY</th>\n",
       "      <th>STABBR</th>\n",
       "      <th>ZIP</th>\n",
       "      <th>ACCREDAGENCY</th>\n",
       "      <th>INSTURL</th>\n",
       "      <th>NPCURL</th>\n",
       "      <th>...</th>\n",
       "      <th>D100_L4</th>\n",
       "      <th>TRANS_4</th>\n",
       "      <th>DTRANS_4</th>\n",
       "      <th>TRANS_L4</th>\n",
       "      <th>DTRANS_L4</th>\n",
       "      <th>ICLEVEL</th>\n",
       "      <th>UGDS_MEN</th>\n",
       "      <th>UGDS_WOMEN</th>\n",
       "      <th>CDR3_DENOM</th>\n",
       "      <th>CDR2_DENOM</th>\n",
       "    </tr>\n",
       "  </thead>\n",
       "  <tbody>\n",
       "    <tr>\n",
       "      <th>0</th>\n",
       "      <td>100654</td>\n",
       "      <td>100200</td>\n",
       "      <td>1002</td>\n",
       "      <td>Alabama A &amp; M University</td>\n",
       "      <td>Normal</td>\n",
       "      <td>AL</td>\n",
       "      <td>35762</td>\n",
       "      <td>NaN</td>\n",
       "      <td>NaN</td>\n",
       "      <td>NaN</td>\n",
       "      <td>...</td>\n",
       "      <td>NaN</td>\n",
       "      <td>0.000000</td>\n",
       "      <td>1133.0</td>\n",
       "      <td>NaN</td>\n",
       "      <td>NaN</td>\n",
       "      <td>1</td>\n",
       "      <td>0.4879</td>\n",
       "      <td>0.5121</td>\n",
       "      <td>1405.0</td>\n",
       "      <td>1574.0</td>\n",
       "    </tr>\n",
       "    <tr>\n",
       "      <th>1</th>\n",
       "      <td>100663</td>\n",
       "      <td>105200</td>\n",
       "      <td>1052</td>\n",
       "      <td>University of Alabama at Birmingham</td>\n",
       "      <td>Birmingham</td>\n",
       "      <td>AL</td>\n",
       "      <td>35294-0110</td>\n",
       "      <td>NaN</td>\n",
       "      <td>NaN</td>\n",
       "      <td>NaN</td>\n",
       "      <td>...</td>\n",
       "      <td>NaN</td>\n",
       "      <td>0.290236</td>\n",
       "      <td>1485.0</td>\n",
       "      <td>NaN</td>\n",
       "      <td>NaN</td>\n",
       "      <td>1</td>\n",
       "      <td>0.4200</td>\n",
       "      <td>0.5800</td>\n",
       "      <td>3153.0</td>\n",
       "      <td>3481.0</td>\n",
       "    </tr>\n",
       "    <tr>\n",
       "      <th>2</th>\n",
       "      <td>100690</td>\n",
       "      <td>2503400</td>\n",
       "      <td>25034</td>\n",
       "      <td>Amridge University</td>\n",
       "      <td>Montgomery</td>\n",
       "      <td>AL</td>\n",
       "      <td>36117-3553</td>\n",
       "      <td>NaN</td>\n",
       "      <td>NaN</td>\n",
       "      <td>NaN</td>\n",
       "      <td>...</td>\n",
       "      <td>NaN</td>\n",
       "      <td>0.000000</td>\n",
       "      <td>1.0</td>\n",
       "      <td>NaN</td>\n",
       "      <td>NaN</td>\n",
       "      <td>1</td>\n",
       "      <td>0.4379</td>\n",
       "      <td>0.5621</td>\n",
       "      <td>264.0</td>\n",
       "      <td>336.0</td>\n",
       "    </tr>\n",
       "    <tr>\n",
       "      <th>3</th>\n",
       "      <td>100706</td>\n",
       "      <td>105500</td>\n",
       "      <td>1055</td>\n",
       "      <td>University of Alabama in Huntsville</td>\n",
       "      <td>Huntsville</td>\n",
       "      <td>AL</td>\n",
       "      <td>35899</td>\n",
       "      <td>NaN</td>\n",
       "      <td>NaN</td>\n",
       "      <td>NaN</td>\n",
       "      <td>...</td>\n",
       "      <td>NaN</td>\n",
       "      <td>0.307116</td>\n",
       "      <td>801.0</td>\n",
       "      <td>NaN</td>\n",
       "      <td>NaN</td>\n",
       "      <td>1</td>\n",
       "      <td>0.5425</td>\n",
       "      <td>0.4575</td>\n",
       "      <td>1208.0</td>\n",
       "      <td>1392.0</td>\n",
       "    </tr>\n",
       "    <tr>\n",
       "      <th>4</th>\n",
       "      <td>100724</td>\n",
       "      <td>100500</td>\n",
       "      <td>1005</td>\n",
       "      <td>Alabama State University</td>\n",
       "      <td>Montgomery</td>\n",
       "      <td>AL</td>\n",
       "      <td>36104-0271</td>\n",
       "      <td>NaN</td>\n",
       "      <td>NaN</td>\n",
       "      <td>NaN</td>\n",
       "      <td>...</td>\n",
       "      <td>NaN</td>\n",
       "      <td>0.000000</td>\n",
       "      <td>1298.0</td>\n",
       "      <td>NaN</td>\n",
       "      <td>NaN</td>\n",
       "      <td>1</td>\n",
       "      <td>0.4046</td>\n",
       "      <td>0.5954</td>\n",
       "      <td>1951.0</td>\n",
       "      <td>1961.0</td>\n",
       "    </tr>\n",
       "  </tbody>\n",
       "</table>\n",
       "<p>5 rows × 1743 columns</p>\n",
       "</div>"
      ],
      "text/plain": [
       "   ﻿UNITID    OPEID  OPEID6                               INSTNM        CITY  \\\n",
       "0   100654   100200    1002             Alabama A & M University      Normal   \n",
       "1   100663   105200    1052  University of Alabama at Birmingham  Birmingham   \n",
       "2   100690  2503400   25034                   Amridge University  Montgomery   \n",
       "3   100706   105500    1055  University of Alabama in Huntsville  Huntsville   \n",
       "4   100724   100500    1005             Alabama State University  Montgomery   \n",
       "\n",
       "  STABBR         ZIP  ACCREDAGENCY  INSTURL NPCURL     ...      D100_L4  \\\n",
       "0     AL       35762           NaN      NaN    NaN     ...          NaN   \n",
       "1     AL  35294-0110           NaN      NaN    NaN     ...          NaN   \n",
       "2     AL  36117-3553           NaN      NaN    NaN     ...          NaN   \n",
       "3     AL       35899           NaN      NaN    NaN     ...          NaN   \n",
       "4     AL  36104-0271           NaN      NaN    NaN     ...          NaN   \n",
       "\n",
       "    TRANS_4  DTRANS_4  TRANS_L4  DTRANS_L4  ICLEVEL  UGDS_MEN  UGDS_WOMEN  \\\n",
       "0  0.000000    1133.0       NaN        NaN        1    0.4879      0.5121   \n",
       "1  0.290236    1485.0       NaN        NaN        1    0.4200      0.5800   \n",
       "2  0.000000       1.0       NaN        NaN        1    0.4379      0.5621   \n",
       "3  0.307116     801.0       NaN        NaN        1    0.5425      0.4575   \n",
       "4  0.000000    1298.0       NaN        NaN        1    0.4046      0.5954   \n",
       "\n",
       "   CDR3_DENOM  CDR2_DENOM  \n",
       "0      1405.0      1574.0  \n",
       "1      3153.0      3481.0  \n",
       "2       264.0       336.0  \n",
       "3      1208.0      1392.0  \n",
       "4      1951.0      1961.0  \n",
       "\n",
       "[5 rows x 1743 columns]"
      ]
     },
     "execution_count": 4,
     "metadata": {},
     "output_type": "execute_result"
    }
   ],
   "source": [
    "college_1213 = load_college_data(file='MERGED2012_13_PP.csv')\n",
    "college_1415 = load_college_data(file='MERGED2014_15_PP.csv')\n",
    "print(type(college_1213))\n",
    "college_1213.head()"
   ]
  },
  {
   "cell_type": "markdown",
   "metadata": {},
   "source": [
    "Each row is an institution with 1743 attributes as columns."
   ]
  },
  {
   "cell_type": "code",
   "execution_count": 5,
   "metadata": {
    "collapsed": false
   },
   "outputs": [
    {
     "name": "stdout",
     "output_type": "stream",
     "text": [
      "<class 'pandas.core.frame.DataFrame'>\n",
      "RangeIndex: 7793 entries, 0 to 7792\n",
      "Columns: 1743 entries, ﻿UNITID to CDR2_DENOM\n",
      "dtypes: float64(1724), int64(11), object(8)\n",
      "memory usage: 103.6+ MB\n"
     ]
    }
   ],
   "source": [
    "college_1213.info()"
   ]
  },
  {
   "cell_type": "markdown",
   "metadata": {},
   "source": [
    "This `.info()` method returns a brief description of the dataset, with each attribute from the columns and the type of the object. For example, we can see that the data in our college dataframe has 1724 float attributes, 11 integer attributes, and 8 object attributes (in our case, string or factor attributes)."
   ]
  },
  {
   "cell_type": "markdown",
   "metadata": {},
   "source": [
    "# Variable Selection\n",
    "\n",
    "Given the size of our dataset, we utilized the [College Data Documentation Report](http://https://collegescorecard.ed.gov/data/documentation/) to select our variables of interest. From this document, we were able to select variables of interest to answer our classification question: can we correctly classify each institution into one of three groups that describe the earning potentional of students 10 years after gradaution?\n",
    "\n",
    "\n",
    "The variables we selected are:\n",
    "\n",
    "University Description:\n",
    "- INSTNM (institution name)\n",
    "- CITY (the city of the school)\n",
    "- STABBR (state postcode)\n",
    "- ZIP (zip code)\n",
    "- LATITUDE (latitude of location)\n",
    "- LONGITUDE (longitude of location)\n",
    "\n",
    "Features:\n",
    "Factor variables\n",
    "- ADM_RATE (admission rate as a percent)\n",
    "- MAIN (flag for main campus)\n",
    "- ICLEVEL (highest level of award: 4-year, 2-year, less than 2-year)\n",
    "- Control (Public, Private Non-profit, or Private For-Profit)\n",
    "- HBCU (Historically black college)\n",
    "- PBI (Predominantly black college)\n",
    "- ANNHI (Alaska Native-/Native Hawaiian-serving Institutions)\n",
    "- TRIBAL (Tribal Colleges and Universities)\n",
    "- AANAPII (Asian American-/Native American-Pacific Islander-serving Institutions)\n",
    "- HSI (Hispanic-serving Institutions)\n",
    "- NANTI (Native American Non-Tribal-serving institution)\n",
    "\n",
    "Label data: \n",
    "- MN_EARN_WNE_P10 (Mean Earnings 10 years after college)\n",
    "\n",
    "The university description variables were chosen to give a basic idea of the universty name and location, both the geographic latitude and longitude as well as city and zip in the state. The factor variables such as admission rate, level of award, and public/private can be correlated to see how these influence median income later for a student on in life. These basic factors were chosen since they give a profile of the school and could relate to later success, as do labels like \"historically black college\" and other racial indiciators. \n",
    "\n",
    "Due to the avaialable data in the `MERGED2012_13_PP.csv`, we had to load the `MERGED2014_15_PP.csv` file to extract longitude, latitude, HBCU, PBI, ANNHI, TRIBAL, AANAPII, HSI, and the NANT variables."
   ]
  },
  {
   "cell_type": "markdown",
   "metadata": {},
   "source": [
    "Below, we used both files to extract data and combine to what we will use moving forward. We will extract description data and the data we will use to explore relationships."
   ]
  },
  {
   "cell_type": "code",
   "execution_count": 6,
   "metadata": {
    "collapsed": true
   },
   "outputs": [],
   "source": [
    "inst_1213 = college_1213.loc[:,['INSTNM','CITY','STABBR',\n",
    "                                     'ZIP','ADM_RATE', \n",
    "                                     'MAIN','ICLEVEL',\n",
    "                                     'CONTROL','MN_EARN_WNE_P10']]\n",
    "\n",
    "inst_1415 = college_1415.loc[:, ['INSTNM', 'HBCU','PBI',\n",
    "                                 'ANNHI', 'TRIBAL','AANAPII',\n",
    "                                 'HSI', 'NANTI', 'LATITUDE','LONGITUDE']]\n",
    "\n",
    "college = pd.merge(inst_1213, inst_1415, on=['INSTNM'])"
   ]
  },
  {
   "cell_type": "markdown",
   "metadata": {},
   "source": [
    "Now that we have the variables we want, we will look take a look at our data set and check for missing values"
   ]
  },
  {
   "cell_type": "markdown",
   "metadata": {},
   "source": [
    "# Remove missing data"
   ]
  },
  {
   "cell_type": "markdown",
   "metadata": {
    "collapsed": true
   },
   "source": [
    "First we will examine out dataset to see the spread of missing data."
   ]
  },
  {
   "cell_type": "code",
   "execution_count": 7,
   "metadata": {
    "collapsed": false
   },
   "outputs": [
    {
     "name": "stdout",
     "output_type": "stream",
     "text": [
      "<class 'pandas.core.frame.DataFrame'>\n",
      "Int64Index: 7789 entries, 0 to 7788\n",
      "Data columns (total 18 columns):\n",
      "INSTNM             7789 non-null object\n",
      "CITY               7789 non-null object\n",
      "STABBR             7789 non-null object\n",
      "ZIP                7789 non-null object\n",
      "ADM_RATE           2359 non-null float64\n",
      "MAIN               7789 non-null int64\n",
      "ICLEVEL            7789 non-null int64\n",
      "CONTROL            7789 non-null int64\n",
      "MN_EARN_WNE_P10    6064 non-null float64\n",
      "HBCU               7320 non-null float64\n",
      "PBI                7320 non-null float64\n",
      "ANNHI              7320 non-null float64\n",
      "TRIBAL             7320 non-null float64\n",
      "AANAPII            7320 non-null float64\n",
      "HSI                7320 non-null float64\n",
      "NANTI              7320 non-null float64\n",
      "LATITUDE           7320 non-null float64\n",
      "LONGITUDE          7320 non-null float64\n",
      "dtypes: float64(11), int64(3), object(4)\n",
      "memory usage: 1.1+ MB\n"
     ]
    }
   ],
   "source": [
    "college.info()"
   ]
  },
  {
   "cell_type": "markdown",
   "metadata": {},
   "source": [
    "It appears that `ADM_RATE` has a large amount of missing values. There are three options to account for missing values, we can:\n",
    "\n",
    "Option 1: removes the corresponding institutions  \n",
    "Option 2: removes the entire attribute  \n",
    "Option 3: sets the values to something else (0, mean or median, etc.)\n",
    "\n",
    "Given that over 60% of the admission rate data is empty, we will remove the institutions that don't have this data available. If we chose to fill in the attribute with a value, such as the median, we believe that we would significantly alter our classifications. \n",
    "\n",
    "The goal of this analysis is to accurately classify the institutions based on `MN_EARN_WNE_P10`, so we want to esnure we have a full working sample of data before moving on.\n",
    "\n",
    "To so this, we will removed the data that is missing and store it in a new pandas data frame. Then we will reset the index of the rows."
   ]
  },
  {
   "cell_type": "code",
   "execution_count": 8,
   "metadata": {
    "collapsed": false
   },
   "outputs": [],
   "source": [
    "college = college.dropna(subset=['ADM_RATE', \n",
    "                                 'MN_EARN_WNE_P10',\n",
    "                                 'HBCU'])\n",
    "\n",
    "college = college.reset_index(drop=True)"
   ]
  },
  {
   "cell_type": "code",
   "execution_count": 9,
   "metadata": {
    "collapsed": false
   },
   "outputs": [
    {
     "data": {
      "text/plain": [
       "pandas.core.frame.DataFrame"
      ]
     },
     "execution_count": 9,
     "metadata": {},
     "output_type": "execute_result"
    }
   ],
   "source": [
    "type(college)"
   ]
  },
  {
   "cell_type": "markdown",
   "metadata": {},
   "source": [
    "# Examine new sample"
   ]
  },
  {
   "cell_type": "markdown",
   "metadata": {},
   "source": [
    "Let's take a look at our data just to make sure we have a fully populated data set."
   ]
  },
  {
   "cell_type": "code",
   "execution_count": 10,
   "metadata": {
    "collapsed": false
   },
   "outputs": [
    {
     "data": {
      "text/plain": [
       "INSTNM             0\n",
       "CITY               0\n",
       "STABBR             0\n",
       "ZIP                0\n",
       "ADM_RATE           0\n",
       "MAIN               0\n",
       "ICLEVEL            0\n",
       "CONTROL            0\n",
       "MN_EARN_WNE_P10    0\n",
       "HBCU               0\n",
       "PBI                0\n",
       "ANNHI              0\n",
       "TRIBAL             0\n",
       "AANAPII            0\n",
       "HSI                0\n",
       "NANTI              0\n",
       "LATITUDE           0\n",
       "LONGITUDE          0\n",
       "dtype: int64"
      ]
     },
     "execution_count": 10,
     "metadata": {},
     "output_type": "execute_result"
    }
   ],
   "source": [
    "college.isnull().sum()"
   ]
  },
  {
   "cell_type": "markdown",
   "metadata": {},
   "source": [
    "We now have a full dataset with no missing values. Now we will take a look at our data."
   ]
  },
  {
   "cell_type": "code",
   "execution_count": 11,
   "metadata": {
    "collapsed": false
   },
   "outputs": [
    {
     "data": {
      "text/html": [
       "<div>\n",
       "<table border=\"1\" class=\"dataframe\">\n",
       "  <thead>\n",
       "    <tr style=\"text-align: right;\">\n",
       "      <th></th>\n",
       "      <th>ADM_RATE</th>\n",
       "      <th>MAIN</th>\n",
       "      <th>ICLEVEL</th>\n",
       "      <th>CONTROL</th>\n",
       "      <th>MN_EARN_WNE_P10</th>\n",
       "      <th>HBCU</th>\n",
       "      <th>PBI</th>\n",
       "      <th>ANNHI</th>\n",
       "      <th>TRIBAL</th>\n",
       "      <th>AANAPII</th>\n",
       "      <th>HSI</th>\n",
       "      <th>NANTI</th>\n",
       "      <th>LATITUDE</th>\n",
       "      <th>LONGITUDE</th>\n",
       "    </tr>\n",
       "  </thead>\n",
       "  <tbody>\n",
       "    <tr>\n",
       "      <th>count</th>\n",
       "      <td>2140.000000</td>\n",
       "      <td>2140.000000</td>\n",
       "      <td>2140.000000</td>\n",
       "      <td>2140.000000</td>\n",
       "      <td>2140.000000</td>\n",
       "      <td>2140.000000</td>\n",
       "      <td>2140.000000</td>\n",
       "      <td>2140.000000</td>\n",
       "      <td>2140.0</td>\n",
       "      <td>2140.000000</td>\n",
       "      <td>2140.000000</td>\n",
       "      <td>2140.000000</td>\n",
       "      <td>2140.000000</td>\n",
       "      <td>2140.000000</td>\n",
       "    </tr>\n",
       "    <tr>\n",
       "      <th>mean</th>\n",
       "      <td>0.665967</td>\n",
       "      <td>0.823364</td>\n",
       "      <td>1.160748</td>\n",
       "      <td>1.941121</td>\n",
       "      <td>44498.130841</td>\n",
       "      <td>0.030841</td>\n",
       "      <td>0.011215</td>\n",
       "      <td>0.002804</td>\n",
       "      <td>0.0</td>\n",
       "      <td>0.024766</td>\n",
       "      <td>0.058411</td>\n",
       "      <td>0.004673</td>\n",
       "      <td>38.102104</td>\n",
       "      <td>-88.534309</td>\n",
       "    </tr>\n",
       "    <tr>\n",
       "      <th>std</th>\n",
       "      <td>0.199366</td>\n",
       "      <td>0.381449</td>\n",
       "      <td>0.441375</td>\n",
       "      <td>0.698151</td>\n",
       "      <td>12870.504612</td>\n",
       "      <td>0.172928</td>\n",
       "      <td>0.105330</td>\n",
       "      <td>0.052888</td>\n",
       "      <td>0.0</td>\n",
       "      <td>0.155449</td>\n",
       "      <td>0.234574</td>\n",
       "      <td>0.068215</td>\n",
       "      <td>5.442022</td>\n",
       "      <td>15.287963</td>\n",
       "    </tr>\n",
       "    <tr>\n",
       "      <th>min</th>\n",
       "      <td>0.000000</td>\n",
       "      <td>0.000000</td>\n",
       "      <td>1.000000</td>\n",
       "      <td>1.000000</td>\n",
       "      <td>13100.000000</td>\n",
       "      <td>0.000000</td>\n",
       "      <td>0.000000</td>\n",
       "      <td>0.000000</td>\n",
       "      <td>0.0</td>\n",
       "      <td>0.000000</td>\n",
       "      <td>0.000000</td>\n",
       "      <td>0.000000</td>\n",
       "      <td>17.980000</td>\n",
       "      <td>-158.061825</td>\n",
       "    </tr>\n",
       "    <tr>\n",
       "      <th>25%</th>\n",
       "      <td>0.539600</td>\n",
       "      <td>1.000000</td>\n",
       "      <td>1.000000</td>\n",
       "      <td>1.000000</td>\n",
       "      <td>36975.000000</td>\n",
       "      <td>0.000000</td>\n",
       "      <td>0.000000</td>\n",
       "      <td>0.000000</td>\n",
       "      <td>0.0</td>\n",
       "      <td>0.000000</td>\n",
       "      <td>0.000000</td>\n",
       "      <td>0.000000</td>\n",
       "      <td>34.800777</td>\n",
       "      <td>-94.685502</td>\n",
       "    </tr>\n",
       "    <tr>\n",
       "      <th>50%</th>\n",
       "      <td>0.685450</td>\n",
       "      <td>1.000000</td>\n",
       "      <td>1.000000</td>\n",
       "      <td>2.000000</td>\n",
       "      <td>42800.000000</td>\n",
       "      <td>0.000000</td>\n",
       "      <td>0.000000</td>\n",
       "      <td>0.000000</td>\n",
       "      <td>0.0</td>\n",
       "      <td>0.000000</td>\n",
       "      <td>0.000000</td>\n",
       "      <td>0.000000</td>\n",
       "      <td>39.559003</td>\n",
       "      <td>-84.521338</td>\n",
       "    </tr>\n",
       "    <tr>\n",
       "      <th>75%</th>\n",
       "      <td>0.812275</td>\n",
       "      <td>1.000000</td>\n",
       "      <td>1.000000</td>\n",
       "      <td>2.000000</td>\n",
       "      <td>50100.000000</td>\n",
       "      <td>0.000000</td>\n",
       "      <td>0.000000</td>\n",
       "      <td>0.000000</td>\n",
       "      <td>0.0</td>\n",
       "      <td>0.000000</td>\n",
       "      <td>0.000000</td>\n",
       "      <td>0.000000</td>\n",
       "      <td>41.746355</td>\n",
       "      <td>-77.195941</td>\n",
       "    </tr>\n",
       "    <tr>\n",
       "      <th>max</th>\n",
       "      <td>1.000000</td>\n",
       "      <td>1.000000</td>\n",
       "      <td>3.000000</td>\n",
       "      <td>3.000000</td>\n",
       "      <td>136400.000000</td>\n",
       "      <td>1.000000</td>\n",
       "      <td>1.000000</td>\n",
       "      <td>1.000000</td>\n",
       "      <td>0.0</td>\n",
       "      <td>1.000000</td>\n",
       "      <td>1.000000</td>\n",
       "      <td>1.000000</td>\n",
       "      <td>61.191235</td>\n",
       "      <td>-64.972866</td>\n",
       "    </tr>\n",
       "  </tbody>\n",
       "</table>\n",
       "</div>"
      ],
      "text/plain": [
       "          ADM_RATE         MAIN      ICLEVEL      CONTROL  MN_EARN_WNE_P10  \\\n",
       "count  2140.000000  2140.000000  2140.000000  2140.000000      2140.000000   \n",
       "mean      0.665967     0.823364     1.160748     1.941121     44498.130841   \n",
       "std       0.199366     0.381449     0.441375     0.698151     12870.504612   \n",
       "min       0.000000     0.000000     1.000000     1.000000     13100.000000   \n",
       "25%       0.539600     1.000000     1.000000     1.000000     36975.000000   \n",
       "50%       0.685450     1.000000     1.000000     2.000000     42800.000000   \n",
       "75%       0.812275     1.000000     1.000000     2.000000     50100.000000   \n",
       "max       1.000000     1.000000     3.000000     3.000000    136400.000000   \n",
       "\n",
       "              HBCU          PBI        ANNHI  TRIBAL      AANAPII  \\\n",
       "count  2140.000000  2140.000000  2140.000000  2140.0  2140.000000   \n",
       "mean      0.030841     0.011215     0.002804     0.0     0.024766   \n",
       "std       0.172928     0.105330     0.052888     0.0     0.155449   \n",
       "min       0.000000     0.000000     0.000000     0.0     0.000000   \n",
       "25%       0.000000     0.000000     0.000000     0.0     0.000000   \n",
       "50%       0.000000     0.000000     0.000000     0.0     0.000000   \n",
       "75%       0.000000     0.000000     0.000000     0.0     0.000000   \n",
       "max       1.000000     1.000000     1.000000     0.0     1.000000   \n",
       "\n",
       "               HSI        NANTI     LATITUDE    LONGITUDE  \n",
       "count  2140.000000  2140.000000  2140.000000  2140.000000  \n",
       "mean      0.058411     0.004673    38.102104   -88.534309  \n",
       "std       0.234574     0.068215     5.442022    15.287963  \n",
       "min       0.000000     0.000000    17.980000  -158.061825  \n",
       "25%       0.000000     0.000000    34.800777   -94.685502  \n",
       "50%       0.000000     0.000000    39.559003   -84.521338  \n",
       "75%       0.000000     0.000000    41.746355   -77.195941  \n",
       "max       1.000000     1.000000    61.191235   -64.972866  "
      ]
     },
     "execution_count": 11,
     "metadata": {},
     "output_type": "execute_result"
    }
   ],
   "source": [
    "college.describe()"
   ]
  },
  {
   "cell_type": "markdown",
   "metadata": {},
   "source": [
    "# Prepare target attribute"
   ]
  },
  {
   "cell_type": "markdown",
   "metadata": {},
   "source": [
    "As we can see from our data above, we our `MN_EARN_WNE_P10` variable is numeric and ranges from \\$13,100 to \\$136,400. To prepare our data for classification, we will first work to transform this attribute to a binary attribute to indicate whether an instituion has the qualities for a \"high earning potentional\" or \"low earning potential\". \n",
    "\n",
    "We will do this by using the median as a threshold and classifying each instiution above the median as 1 and each institution below the median as 0.\n",
    "\n",
    "Below, we will intialize the list, `college_earn`, and then run a `for` loop over the `college['MN_EARN_WNE_P10']` attribute that assigns a value of a 1 or 0 based on whether the value of `college['MN_EARN_WNE_P10']` is larger or smaller than the median earnings 10 years after graduation."
   ]
  },
  {
   "cell_type": "code",
   "execution_count": 12,
   "metadata": {
    "collapsed": false
   },
   "outputs": [],
   "source": [
    "college_earn = []\n",
    "\n",
    "for i in college['MN_EARN_WNE_P10']:\n",
    "    if i > college['MN_EARN_WNE_P10'].median():\n",
    "        college.earn = college_earn.append(1)\n",
    "    else:\n",
    "        college.earn = college_earn.append(0)"
   ]
  },
  {
   "cell_type": "markdown",
   "metadata": {},
   "source": [
    "Now we will add this list to the `college` data frame and take a look at the results."
   ]
  },
  {
   "cell_type": "code",
   "execution_count": 13,
   "metadata": {
    "collapsed": false
   },
   "outputs": [],
   "source": [
    "college['earning_potentional'] = college_earn"
   ]
  },
  {
   "cell_type": "code",
   "execution_count": 14,
   "metadata": {
    "collapsed": false
   },
   "outputs": [
    {
     "data": {
      "text/html": [
       "<div>\n",
       "<table border=\"1\" class=\"dataframe\">\n",
       "  <thead>\n",
       "    <tr style=\"text-align: right;\">\n",
       "      <th></th>\n",
       "      <th>INSTNM</th>\n",
       "      <th>CITY</th>\n",
       "      <th>STABBR</th>\n",
       "      <th>ZIP</th>\n",
       "      <th>ADM_RATE</th>\n",
       "      <th>MAIN</th>\n",
       "      <th>ICLEVEL</th>\n",
       "      <th>CONTROL</th>\n",
       "      <th>MN_EARN_WNE_P10</th>\n",
       "      <th>HBCU</th>\n",
       "      <th>PBI</th>\n",
       "      <th>ANNHI</th>\n",
       "      <th>TRIBAL</th>\n",
       "      <th>AANAPII</th>\n",
       "      <th>HSI</th>\n",
       "      <th>NANTI</th>\n",
       "      <th>LATITUDE</th>\n",
       "      <th>LONGITUDE</th>\n",
       "      <th>earning_potentional</th>\n",
       "    </tr>\n",
       "  </thead>\n",
       "  <tbody>\n",
       "    <tr>\n",
       "      <th>0</th>\n",
       "      <td>Alabama A &amp; M University</td>\n",
       "      <td>Normal</td>\n",
       "      <td>AL</td>\n",
       "      <td>35762</td>\n",
       "      <td>0.5438</td>\n",
       "      <td>1</td>\n",
       "      <td>1</td>\n",
       "      <td>1</td>\n",
       "      <td>35000.0</td>\n",
       "      <td>1.0</td>\n",
       "      <td>0.0</td>\n",
       "      <td>0.0</td>\n",
       "      <td>0.0</td>\n",
       "      <td>0.0</td>\n",
       "      <td>0.0</td>\n",
       "      <td>0.0</td>\n",
       "      <td>34.783368</td>\n",
       "      <td>-86.568502</td>\n",
       "      <td>0</td>\n",
       "    </tr>\n",
       "    <tr>\n",
       "      <th>1</th>\n",
       "      <td>University of Alabama at Birmingham</td>\n",
       "      <td>Birmingham</td>\n",
       "      <td>AL</td>\n",
       "      <td>35294-0110</td>\n",
       "      <td>0.7223</td>\n",
       "      <td>1</td>\n",
       "      <td>1</td>\n",
       "      <td>1</td>\n",
       "      <td>46300.0</td>\n",
       "      <td>0.0</td>\n",
       "      <td>0.0</td>\n",
       "      <td>0.0</td>\n",
       "      <td>0.0</td>\n",
       "      <td>0.0</td>\n",
       "      <td>0.0</td>\n",
       "      <td>0.0</td>\n",
       "      <td>33.502230</td>\n",
       "      <td>-86.809170</td>\n",
       "      <td>1</td>\n",
       "    </tr>\n",
       "    <tr>\n",
       "      <th>2</th>\n",
       "      <td>University of Alabama in Huntsville</td>\n",
       "      <td>Huntsville</td>\n",
       "      <td>AL</td>\n",
       "      <td>35899</td>\n",
       "      <td>0.7766</td>\n",
       "      <td>1</td>\n",
       "      <td>1</td>\n",
       "      <td>1</td>\n",
       "      <td>50400.0</td>\n",
       "      <td>0.0</td>\n",
       "      <td>0.0</td>\n",
       "      <td>0.0</td>\n",
       "      <td>0.0</td>\n",
       "      <td>0.0</td>\n",
       "      <td>0.0</td>\n",
       "      <td>0.0</td>\n",
       "      <td>34.722818</td>\n",
       "      <td>-86.638420</td>\n",
       "      <td>1</td>\n",
       "    </tr>\n",
       "    <tr>\n",
       "      <th>3</th>\n",
       "      <td>Alabama State University</td>\n",
       "      <td>Montgomery</td>\n",
       "      <td>AL</td>\n",
       "      <td>36104-0271</td>\n",
       "      <td>0.4604</td>\n",
       "      <td>1</td>\n",
       "      <td>1</td>\n",
       "      <td>1</td>\n",
       "      <td>29400.0</td>\n",
       "      <td>1.0</td>\n",
       "      <td>0.0</td>\n",
       "      <td>0.0</td>\n",
       "      <td>0.0</td>\n",
       "      <td>0.0</td>\n",
       "      <td>0.0</td>\n",
       "      <td>0.0</td>\n",
       "      <td>32.364317</td>\n",
       "      <td>-86.295677</td>\n",
       "      <td>0</td>\n",
       "    </tr>\n",
       "    <tr>\n",
       "      <th>4</th>\n",
       "      <td>The University of Alabama</td>\n",
       "      <td>Tuscaloosa</td>\n",
       "      <td>AL</td>\n",
       "      <td>35487-0166</td>\n",
       "      <td>0.5308</td>\n",
       "      <td>1</td>\n",
       "      <td>1</td>\n",
       "      <td>1</td>\n",
       "      <td>48600.0</td>\n",
       "      <td>0.0</td>\n",
       "      <td>0.0</td>\n",
       "      <td>0.0</td>\n",
       "      <td>0.0</td>\n",
       "      <td>0.0</td>\n",
       "      <td>0.0</td>\n",
       "      <td>0.0</td>\n",
       "      <td>33.214400</td>\n",
       "      <td>-87.545766</td>\n",
       "      <td>1</td>\n",
       "    </tr>\n",
       "  </tbody>\n",
       "</table>\n",
       "</div>"
      ],
      "text/plain": [
       "                                INSTNM        CITY STABBR         ZIP  \\\n",
       "0             Alabama A & M University      Normal     AL       35762   \n",
       "1  University of Alabama at Birmingham  Birmingham     AL  35294-0110   \n",
       "2  University of Alabama in Huntsville  Huntsville     AL       35899   \n",
       "3             Alabama State University  Montgomery     AL  36104-0271   \n",
       "4            The University of Alabama  Tuscaloosa     AL  35487-0166   \n",
       "\n",
       "   ADM_RATE  MAIN  ICLEVEL  CONTROL  MN_EARN_WNE_P10  HBCU  PBI  ANNHI  \\\n",
       "0    0.5438     1        1        1          35000.0   1.0  0.0    0.0   \n",
       "1    0.7223     1        1        1          46300.0   0.0  0.0    0.0   \n",
       "2    0.7766     1        1        1          50400.0   0.0  0.0    0.0   \n",
       "3    0.4604     1        1        1          29400.0   1.0  0.0    0.0   \n",
       "4    0.5308     1        1        1          48600.0   0.0  0.0    0.0   \n",
       "\n",
       "   TRIBAL  AANAPII  HSI  NANTI   LATITUDE  LONGITUDE  earning_potentional  \n",
       "0     0.0      0.0  0.0    0.0  34.783368 -86.568502                    0  \n",
       "1     0.0      0.0  0.0    0.0  33.502230 -86.809170                    1  \n",
       "2     0.0      0.0  0.0    0.0  34.722818 -86.638420                    1  \n",
       "3     0.0      0.0  0.0    0.0  32.364317 -86.295677                    0  \n",
       "4     0.0      0.0  0.0    0.0  33.214400 -87.545766                    1  "
      ]
     },
     "execution_count": 14,
     "metadata": {},
     "output_type": "execute_result"
    }
   ],
   "source": [
    "college.head()"
   ]
  },
  {
   "cell_type": "markdown",
   "metadata": {},
   "source": [
    "We can see from the results above that Alabama A & M University is classified as a 0 for `earning_potential` which is consistent with there `MN_EARN_WNE_P10` being lower than than the median earnings of all instituions."
   ]
  },
  {
   "cell_type": "markdown",
   "metadata": {},
   "source": [
    "# Split data"
   ]
  },
  {
   "cell_type": "markdown",
   "metadata": {},
   "source": [
    "Now that we have prepared our target data, we will split the dataset into a training set and a test set. One reason to do this is so that we can test our model and assess accuracy without being subject to overfitting the model. \n",
    "\n",
    "First we will split our training features from our a label data. We will keep our institution names with our training features for now, but we will remove them after we split the training and test data."
   ]
  },
  {
   "cell_type": "code",
   "execution_count": 15,
   "metadata": {
    "collapsed": false
   },
   "outputs": [],
   "source": [
    "college_x = college.drop(['MN_EARN_WNE_P10', \n",
    "                          'earning_potentional'], \n",
    "                          axis=1)\n",
    "college_y = college['earning_potentional']"
   ]
  },
  {
   "cell_type": "markdown",
   "metadata": {},
   "source": [
    "We will now split our training and test data."
   ]
  },
  {
   "cell_type": "code",
   "execution_count": 16,
   "metadata": {
    "collapsed": true
   },
   "outputs": [],
   "source": [
    "train_set, test_set, train_target, test_target = train_test_split(college_x, \n",
    "                                                                  college_y, \n",
    "                                                                  test_size=0.2, \n",
    "                                                                  random_state=75)"
   ]
  },
  {
   "cell_type": "code",
   "execution_count": 17,
   "metadata": {
    "collapsed": false
   },
   "outputs": [
    {
     "data": {
      "text/html": [
       "<div>\n",
       "<table border=\"1\" class=\"dataframe\">\n",
       "  <thead>\n",
       "    <tr style=\"text-align: right;\">\n",
       "      <th></th>\n",
       "      <th>INSTNM</th>\n",
       "      <th>CITY</th>\n",
       "      <th>STABBR</th>\n",
       "      <th>ZIP</th>\n",
       "      <th>ADM_RATE</th>\n",
       "      <th>MAIN</th>\n",
       "      <th>ICLEVEL</th>\n",
       "      <th>CONTROL</th>\n",
       "      <th>HBCU</th>\n",
       "      <th>PBI</th>\n",
       "      <th>ANNHI</th>\n",
       "      <th>TRIBAL</th>\n",
       "      <th>AANAPII</th>\n",
       "      <th>HSI</th>\n",
       "      <th>NANTI</th>\n",
       "      <th>LATITUDE</th>\n",
       "      <th>LONGITUDE</th>\n",
       "    </tr>\n",
       "  </thead>\n",
       "  <tbody>\n",
       "    <tr>\n",
       "      <th>873</th>\n",
       "      <td>Southeast Missouri State University</td>\n",
       "      <td>Cape Girardeau</td>\n",
       "      <td>MO</td>\n",
       "      <td>63701</td>\n",
       "      <td>0.9724</td>\n",
       "      <td>1</td>\n",
       "      <td>1</td>\n",
       "      <td>1</td>\n",
       "      <td>0.0</td>\n",
       "      <td>0.0</td>\n",
       "      <td>0.0</td>\n",
       "      <td>0.0</td>\n",
       "      <td>0.0</td>\n",
       "      <td>0.0</td>\n",
       "      <td>0.0</td>\n",
       "      <td>37.315750</td>\n",
       "      <td>-89.529119</td>\n",
       "    </tr>\n",
       "    <tr>\n",
       "      <th>589</th>\n",
       "      <td>Union College</td>\n",
       "      <td>Schenectady</td>\n",
       "      <td>NY</td>\n",
       "      <td>12308-2311</td>\n",
       "      <td>0.3822</td>\n",
       "      <td>1</td>\n",
       "      <td>1</td>\n",
       "      <td>2</td>\n",
       "      <td>0.0</td>\n",
       "      <td>0.0</td>\n",
       "      <td>0.0</td>\n",
       "      <td>0.0</td>\n",
       "      <td>0.0</td>\n",
       "      <td>0.0</td>\n",
       "      <td>0.0</td>\n",
       "      <td>36.869066</td>\n",
       "      <td>-83.887982</td>\n",
       "    </tr>\n",
       "    <tr>\n",
       "      <th>566</th>\n",
       "      <td>Galen College of Nursing-Louisville</td>\n",
       "      <td>Louisville</td>\n",
       "      <td>KY</td>\n",
       "      <td>40207</td>\n",
       "      <td>0.7270</td>\n",
       "      <td>1</td>\n",
       "      <td>2</td>\n",
       "      <td>3</td>\n",
       "      <td>0.0</td>\n",
       "      <td>0.0</td>\n",
       "      <td>0.0</td>\n",
       "      <td>0.0</td>\n",
       "      <td>0.0</td>\n",
       "      <td>0.0</td>\n",
       "      <td>0.0</td>\n",
       "      <td>38.277320</td>\n",
       "      <td>-85.697564</td>\n",
       "    </tr>\n",
       "    <tr>\n",
       "      <th>1390</th>\n",
       "      <td>University of the Sciences</td>\n",
       "      <td>Philadelphia</td>\n",
       "      <td>PA</td>\n",
       "      <td>19104-4495</td>\n",
       "      <td>0.6334</td>\n",
       "      <td>1</td>\n",
       "      <td>1</td>\n",
       "      <td>2</td>\n",
       "      <td>0.0</td>\n",
       "      <td>0.0</td>\n",
       "      <td>0.0</td>\n",
       "      <td>0.0</td>\n",
       "      <td>1.0</td>\n",
       "      <td>0.0</td>\n",
       "      <td>0.0</td>\n",
       "      <td>39.946552</td>\n",
       "      <td>-75.208241</td>\n",
       "    </tr>\n",
       "    <tr>\n",
       "      <th>1763</th>\n",
       "      <td>Inter American University of Puerto Rico-Fajardo</td>\n",
       "      <td>Fajardo</td>\n",
       "      <td>PR</td>\n",
       "      <td>00738-7003</td>\n",
       "      <td>0.6804</td>\n",
       "      <td>0</td>\n",
       "      <td>1</td>\n",
       "      <td>2</td>\n",
       "      <td>0.0</td>\n",
       "      <td>0.0</td>\n",
       "      <td>0.0</td>\n",
       "      <td>0.0</td>\n",
       "      <td>0.0</td>\n",
       "      <td>1.0</td>\n",
       "      <td>0.0</td>\n",
       "      <td>18.329194</td>\n",
       "      <td>-65.648485</td>\n",
       "    </tr>\n",
       "  </tbody>\n",
       "</table>\n",
       "</div>"
      ],
      "text/plain": [
       "                                                INSTNM            CITY STABBR  \\\n",
       "873                Southeast Missouri State University  Cape Girardeau     MO   \n",
       "589                                      Union College     Schenectady     NY   \n",
       "566                Galen College of Nursing-Louisville      Louisville     KY   \n",
       "1390                        University of the Sciences    Philadelphia     PA   \n",
       "1763  Inter American University of Puerto Rico-Fajardo         Fajardo     PR   \n",
       "\n",
       "             ZIP  ADM_RATE  MAIN  ICLEVEL  CONTROL  HBCU  PBI  ANNHI  TRIBAL  \\\n",
       "873        63701    0.9724     1        1        1   0.0  0.0    0.0     0.0   \n",
       "589   12308-2311    0.3822     1        1        2   0.0  0.0    0.0     0.0   \n",
       "566        40207    0.7270     1        2        3   0.0  0.0    0.0     0.0   \n",
       "1390  19104-4495    0.6334     1        1        2   0.0  0.0    0.0     0.0   \n",
       "1763  00738-7003    0.6804     0        1        2   0.0  0.0    0.0     0.0   \n",
       "\n",
       "      AANAPII  HSI  NANTI   LATITUDE  LONGITUDE  \n",
       "873       0.0  0.0    0.0  37.315750 -89.529119  \n",
       "589       0.0  0.0    0.0  36.869066 -83.887982  \n",
       "566       0.0  0.0    0.0  38.277320 -85.697564  \n",
       "1390      1.0  0.0    0.0  39.946552 -75.208241  \n",
       "1763      0.0  1.0    0.0  18.329194 -65.648485  "
      ]
     },
     "execution_count": 17,
     "metadata": {},
     "output_type": "execute_result"
    }
   ],
   "source": [
    "train_set.head()"
   ]
  },
  {
   "cell_type": "markdown",
   "metadata": {},
   "source": [
    "Now we can remove the institutions descriptions from our data in our training set and test set."
   ]
  },
  {
   "cell_type": "code",
   "execution_count": 18,
   "metadata": {
    "collapsed": false
   },
   "outputs": [],
   "source": [
    "train_set_inst, train_set = train_set.iloc[:,:4], train_set.iloc[:,4:]\n",
    "test_set_inst, test_set = test_set.iloc[:,:4], test_set.iloc[:,4:]"
   ]
  },
  {
   "cell_type": "markdown",
   "metadata": {},
   "source": [
    "Now are data is prepared for our first classification."
   ]
  },
  {
   "cell_type": "markdown",
   "metadata": {},
   "source": [
    "# Logistic Regression Classifier"
   ]
  },
  {
   "cell_type": "markdown",
   "metadata": {},
   "source": [
    "The goal of creating our predictive model is to accurately classify each institution into a high earning institution and a low earning institution.\n",
    "\n",
    "A logistic regression classifier is a binary classifier that will take our institutions and classify them as either high earning or low earning institutions. The logistic regression classifier does this by minimzing the cost for the prediction.\n",
    "\n",
    "First we will intialize the logistic regression classifier in `log_clf`."
   ]
  },
  {
   "cell_type": "code",
   "execution_count": 19,
   "metadata": {
    "collapsed": false
   },
   "outputs": [],
   "source": [
    "log_clf = LogisticRegression(solver='liblinear',\n",
    "                             random_state=42)"
   ]
  },
  {
   "cell_type": "markdown",
   "metadata": {},
   "source": [
    "Now we can create the model and determine the vector of values that we will use to determine the class of the institution. We will fit the model to find the values of the vector which will minimize our cost."
   ]
  },
  {
   "cell_type": "code",
   "execution_count": 20,
   "metadata": {
    "collapsed": true
   },
   "outputs": [],
   "source": [
    "train_fit = log_clf.fit(train_set, \n",
    "                        train_target)"
   ]
  },
  {
   "cell_type": "markdown",
   "metadata": {},
   "source": [
    "With our fitted model, we will predict the classifications of our training data so that we can examine the error in our model. The `predict()` method will take our `train_set` and predict the group classification using the fitted model. The output, which will be an array of 1's and 0's will be assigned to `train_predict`."
   ]
  },
  {
   "cell_type": "code",
   "execution_count": 21,
   "metadata": {
    "collapsed": false
   },
   "outputs": [],
   "source": [
    "train_predict = train_fit.predict(train_set)"
   ]
  },
  {
   "cell_type": "markdown",
   "metadata": {},
   "source": [
    "We can also predict the probabilities that are assigned to each institution using the `predict.proba()` method."
   ]
  },
  {
   "cell_type": "code",
   "execution_count": 22,
   "metadata": {
    "collapsed": false
   },
   "outputs": [
    {
     "data": {
      "text/plain": [
       "array([[ 0.47422615,  0.52577385],\n",
       "       [ 0.37202143,  0.62797857],\n",
       "       [ 0.85973666,  0.14026334]])"
      ]
     },
     "execution_count": 22,
     "metadata": {},
     "output_type": "execute_result"
    }
   ],
   "source": [
    "train_proba = train_fit.predict_proba(train_set)\n",
    "train_proba[:3]"
   ]
  },
  {
   "cell_type": "markdown",
   "metadata": {},
   "source": [
    "The values above are the probabilities of each of the first three institutions being classified as either a 0 (low earning potential) or a 1 (high earning potential) institution. As we can see, the first two institutions would be classified as high earning potential and the third institution would be classified as low earning potential.\n",
    "\n",
    "Additionally, we can examine the decision function used to determine group membership by using the `decision_function()` method."
   ]
  },
  {
   "cell_type": "code",
   "execution_count": 23,
   "metadata": {
    "collapsed": false
   },
   "outputs": [
    {
     "data": {
      "text/plain": [
       "array([ 0.10318687,  0.52355459, -1.81310447])"
      ]
     },
     "execution_count": 23,
     "metadata": {},
     "output_type": "execute_result"
    }
   ],
   "source": [
    "train_decision = train_fit.decision_function(train_set)\n",
    "train_decision[:3]"
   ]
  },
  {
   "cell_type": "markdown",
   "metadata": {},
   "source": [
    "Above, we can see the decision function of the first 3 institutions. Institutions with a positive value will be classified as a high earning institute and institutes with a negative value will be classified as a low earning institute.\n",
    "\n",
    "We can compare the inst"
   ]
  },
  {
   "cell_type": "code",
   "execution_count": 24,
   "metadata": {
    "collapsed": false
   },
   "outputs": [
    {
     "data": {
      "text/plain": [
       "array([[719,   0],\n",
       "       [  0, 993]])"
      ]
     },
     "execution_count": 24,
     "metadata": {},
     "output_type": "execute_result"
    }
   ],
   "source": [
    "confusion_matrix(train_decision>0, train_proba[:,1]>0.5)\n"
   ]
  },
  {
   "cell_type": "markdown",
   "metadata": {},
   "source": [
    "We can examine the confusion matrix below to see how well we did with out classifier. Our confusion matrix take our class predictions fitted by the logisitic regression classifier and compares them to our target data from our training set."
   ]
  },
  {
   "cell_type": "code",
   "execution_count": 26,
   "metadata": {
    "collapsed": false
   },
   "outputs": [
    {
     "data": {
      "text/html": [
       "<div>\n",
       "<table border=\"1\" class=\"dataframe\">\n",
       "  <thead>\n",
       "    <tr style=\"text-align: right;\">\n",
       "      <th></th>\n",
       "      <th>0</th>\n",
       "      <th>1</th>\n",
       "    </tr>\n",
       "  </thead>\n",
       "  <tbody>\n",
       "    <tr>\n",
       "      <th>0</th>\n",
       "      <td>546</td>\n",
       "      <td>343</td>\n",
       "    </tr>\n",
       "    <tr>\n",
       "      <th>1</th>\n",
       "      <td>173</td>\n",
       "      <td>650</td>\n",
       "    </tr>\n",
       "  </tbody>\n",
       "</table>\n",
       "</div>"
      ],
      "text/plain": [
       "     0    1\n",
       "0  546  343\n",
       "1  173  650"
      ]
     },
     "execution_count": 26,
     "metadata": {},
     "output_type": "execute_result"
    }
   ],
   "source": [
    "pd.DataFrame(confusion_matrix(train_target, train_predict))"
   ]
  },
  {
   "cell_type": "markdown",
   "metadata": {},
   "source": [
    "The rows in the table above signify the actual values of the institutions in our dataset and the columns signify the predicted values using our logistic regression classifier.\n",
    "\n",
    "Interpreting the confusion matrix we can see that we correctly identified 546 institutions as low earning potential institutions and 650 institutions as high earning potential institutions.\n",
    "\n",
    "From this matrix, we can calculate the precision (TP / (TP + FP)) and recall (TP / (TP + FN)). Rather, we will use a method below to calculate these metrics."
   ]
  },
  {
   "cell_type": "code",
   "execution_count": 27,
   "metadata": {
    "collapsed": false
   },
   "outputs": [
    {
     "name": "stdout",
     "output_type": "stream",
     "text": [
      "precision:  0.654582074522\n",
      "   recall:  0.789793438639\n"
     ]
    }
   ],
   "source": [
    "print(\"precision: \",precision_score(train_target, train_predict))\n",
    "print(\"   recall: \",   recall_score(train_target, train_predict))"
   ]
  },
  {
   "cell_type": "markdown",
   "metadata": {},
   "source": [
    "For a person who is risk adverse and is looking to select a high earning potential institution and this classifier might not be the best. As we can see, our precision is about 65%. That is to say, of all the institutions we classifed as high earning potential, we correctly classified 65%. \n",
    "\n",
    "However, of all the institutions that have high earning potential, we correctly classified 78%.\n",
    "\n",
    "Being risk-adverse, it is more important to consider precision in this classification.\n",
    "\n",
    "We can futher explore the true positive rate (TPR) visually. We will plot the true positive rate against the false positive rate (FPR). But first, we must extract this information using the `roc_curve()` function which takes our training target data and the decision scores from our logistic regression model to get the values for our ROC curve. "
   ]
  },
  {
   "cell_type": "code",
   "execution_count": 28,
   "metadata": {
    "collapsed": false
   },
   "outputs": [],
   "source": [
    "fpr, tpr, thresholds = roc_curve(train_target, train_decision)"
   ]
  },
  {
   "cell_type": "code",
   "execution_count": 31,
   "metadata": {
    "collapsed": false
   },
   "outputs": [
    {
     "data": {
      "text/plain": [
       "[<matplotlib.lines.Line2D at 0x1123af7b8>]"
      ]
     },
     "execution_count": 31,
     "metadata": {},
     "output_type": "execute_result"
    },
    {
     "data": {
      "image/png": "[encoded data removed]",
      "text/plain": [
       "<matplotlib.figure.Figure at 0x1124b4470>"
      ]
     },
     "metadata": {},
     "output_type": "display_data"
    }
   ],
   "source": [
    "plt.title(\"ROC curve\")\n",
    "plt.xlabel(\"false positive rate\")\n",
    "plt.ylabel(\"true positive rate\")\n",
    "plt.plot(fpr,tpr)"
   ]
  },
  {
   "cell_type": "markdown",
   "metadata": {},
   "source": [
    "From the plot above, we can see that our model is better than randomly guessing given that the line is not straddling the center of the graph. However, we would like to see this line get closer to the top left corner of the graph which would indicate a better model. Below we will get the area under the curve (AUC)."
   ]
  },
  {
   "cell_type": "code",
   "execution_count": 32,
   "metadata": {
    "collapsed": false
   },
   "outputs": [
    {
     "data": {
      "text/plain": [
       "0.76309613789163355"
      ]
     },
     "execution_count": 32,
     "metadata": {},
     "output_type": "execute_result"
    }
   ],
   "source": [
    "roc_auc_score(train_target, train_decision)"
   ]
  },
  {
   "cell_type": "markdown",
   "metadata": {},
   "source": [
    "Our model has an AUC of 0.76. AUCs closer to 1 indicate a better fitting model."
   ]
  },
  {
   "cell_type": "markdown",
   "metadata": {},
   "source": [
    "# Stochastic Gradient Descent Classifier (Logistic Regression)"
   ]
  },
  {
   "cell_type": "markdown",
   "metadata": {},
   "source": [
    "Now that we have seen the first attempt at building a model to classify our institutions, we will look to try to find a better predicition rate using a stochastic gradient descent classifier. "
   ]
  },
  {
   "cell_type": "code",
   "execution_count": 35,
   "metadata": {
    "collapsed": true
   },
   "outputs": [],
   "source": [
    "sgd_clf = SGDClassifier(loss='log', alpha=0.1, random_state=42)"
   ]
  },
  {
   "cell_type": "markdown",
   "metadata": {},
   "source": [
    "We will fit the model using our model using our `train_set` and `train_target` data."
   ]
  },
  {
   "cell_type": "code",
   "execution_count": 36,
   "metadata": {
    "collapsed": false
   },
   "outputs": [],
   "source": [
    "train_fit_sgd  = sgd_clf.fit(train_set, \n",
    "                             train_target)"
   ]
  },
  {
   "cell_type": "code",
   "execution_count": 37,
   "metadata": {
    "collapsed": true
   },
   "outputs": [],
   "source": [
    "train_predict_sgd = train_fit_sgd.predict(train_set)"
   ]
  },
  {
   "cell_type": "code",
   "execution_count": 38,
   "metadata": {
    "collapsed": true
   },
   "outputs": [],
   "source": [
    "train_proba_sgd = train_fit_sgd.predict_proba(train_set)"
   ]
  },
  {
   "cell_type": "code",
   "execution_count": 39,
   "metadata": {
    "collapsed": true
   },
   "outputs": [],
   "source": [
    "train_decision_sgd = train_fit_sgd.decision_function(train_set)"
   ]
  },
  {
   "cell_type": "code",
   "execution_count": 44,
   "metadata": {
    "collapsed": false
   },
   "outputs": [
    {
     "data": {
      "text/html": [
       "<div>\n",
       "<table border=\"1\" class=\"dataframe\">\n",
       "  <thead>\n",
       "    <tr style=\"text-align: right;\">\n",
       "      <th></th>\n",
       "      <th>0</th>\n",
       "      <th>1</th>\n",
       "    </tr>\n",
       "  </thead>\n",
       "  <tbody>\n",
       "    <tr>\n",
       "      <th>0</th>\n",
       "      <td>888</td>\n",
       "      <td>1</td>\n",
       "    </tr>\n",
       "    <tr>\n",
       "      <th>1</th>\n",
       "      <td>823</td>\n",
       "      <td>0</td>\n",
       "    </tr>\n",
       "  </tbody>\n",
       "</table>\n",
       "</div>"
      ],
      "text/plain": [
       "     0  1\n",
       "0  888  1\n",
       "1  823  0"
      ]
     },
     "execution_count": 44,
     "metadata": {},
     "output_type": "execute_result"
    }
   ],
   "source": [
    "pd.DataFrame(confusion_matrix(train_target, train_predict_sgd))"
   ]
  },
  {
   "cell_type": "markdown",
   "metadata": {},
   "source": [
    "It appears that we were unable to classify our high earning potentional schools. Additionally, our classifier predicted that all except one of our institutions was a low earning potential institution."
   ]
  },
  {
   "cell_type": "markdown",
   "metadata": {},
   "source": [
    "# Cross validation classifier using SGD Logistic classifier"
   ]
  },
  {
   "cell_type": "code",
   "execution_count": 49,
   "metadata": {
    "collapsed": false
   },
   "outputs": [],
   "source": [
    "train_predict_cvsgd = cross_val_predict(sgd_clf, \n",
    "                                        train_set, train_target, \n",
    "                                        cv=3, method='predict')"
   ]
  },
  {
   "cell_type": "code",
   "execution_count": 52,
   "metadata": {
    "collapsed": false
   },
   "outputs": [
    {
     "data": {
      "text/html": [
       "<div>\n",
       "<table border=\"1\" class=\"dataframe\">\n",
       "  <thead>\n",
       "    <tr style=\"text-align: right;\">\n",
       "      <th></th>\n",
       "      <th>0</th>\n",
       "      <th>1</th>\n",
       "    </tr>\n",
       "  </thead>\n",
       "  <tbody>\n",
       "    <tr>\n",
       "      <th>0</th>\n",
       "      <td>592</td>\n",
       "      <td>297</td>\n",
       "    </tr>\n",
       "    <tr>\n",
       "      <th>1</th>\n",
       "      <td>548</td>\n",
       "      <td>275</td>\n",
       "    </tr>\n",
       "  </tbody>\n",
       "</table>\n",
       "</div>"
      ],
      "text/plain": [
       "     0    1\n",
       "0  592  297\n",
       "1  548  275"
      ]
     },
     "execution_count": 52,
     "metadata": {},
     "output_type": "execute_result"
    }
   ],
   "source": [
    "pd.DataFrame(confusion_matrix(train_target, train_predict_cvsgd))"
   ]
  },
  {
   "cell_type": "markdown",
   "metadata": {},
   "source": [
    "It appears that our cross validation classifier using the SGD Logistic classifer is better than our first SGD Logistic classifier. Let's take a look at our precision and recall."
   ]
  },
  {
   "cell_type": "code",
   "execution_count": 53,
   "metadata": {
    "collapsed": false
   },
   "outputs": [
    {
     "name": "stdout",
     "output_type": "stream",
     "text": [
      "precision:  0.480769230769\n",
      "   recall:  0.334143377886\n"
     ]
    }
   ],
   "source": [
    "print(\"precision: \",precision_score(train_target, train_predict_cvsgd))\n",
    "print(\"   recall: \",   recall_score(train_target, train_predict_cvsgd))"
   ]
  },
  {
   "cell_type": "markdown",
   "metadata": {},
   "source": [
    "Our model performs much worse on predicting our training data than our first logitistic regression classifier. It appears that we need to improve our model parameters to get a better classification."
   ]
  },
  {
   "cell_type": "markdown",
   "metadata": {},
   "source": [
    "# Adding new model parameters"
   ]
  },
  {
   "cell_type": "markdown",
   "metadata": {},
   "source": [
    "We will rexamine our model parameters and improve our model. After reviewing our model and the variables available to in our College Scorecard data set, we have decided to add..."
   ]
  },
  {
   "cell_type": "markdown",
   "metadata": {},
   "source": [
    "# @team\n",
    "\n",
    "Before we test our model we should consider adding parameters. Improving our model, than improve our target by using a multiclass classifier such as LDA (linear discriminate analysis). \n",
    "\n",
    "This will also allow us to consider improving our regression model with better parameters."
   ]
  },
  {
   "cell_type": "markdown",
   "metadata": {},
   "source": [
    "# Test Model"
   ]
  },
  {
   "cell_type": "markdown",
   "metadata": {},
   "source": [
    "Now that we have our model calibrated and finalized, we will test our best model on the test set."
   ]
  },
  {
   "cell_type": "code",
   "execution_count": 145,
   "metadata": {
    "collapsed": true
   },
   "outputs": [],
   "source": [
    "final_model = train_fit"
   ]
  },
  {
   "cell_type": "code",
   "execution_count": 146,
   "metadata": {
    "collapsed": true
   },
   "outputs": [],
   "source": [
    "test_predict = final_model.predict(test_set)"
   ]
  },
  {
   "cell_type": "code",
   "execution_count": 153,
   "metadata": {
    "collapsed": false
   },
   "outputs": [
    {
     "data": {
      "text/html": [
       "<div>\n",
       "<table border=\"1\" class=\"dataframe\">\n",
       "  <thead>\n",
       "    <tr style=\"text-align: right;\">\n",
       "      <th></th>\n",
       "      <th>0</th>\n",
       "      <th>1</th>\n",
       "    </tr>\n",
       "  </thead>\n",
       "  <tbody>\n",
       "    <tr>\n",
       "      <th>0</th>\n",
       "      <td>130</td>\n",
       "      <td>87</td>\n",
       "    </tr>\n",
       "    <tr>\n",
       "      <th>1</th>\n",
       "      <td>48</td>\n",
       "      <td>163</td>\n",
       "    </tr>\n",
       "  </tbody>\n",
       "</table>\n",
       "</div>"
      ],
      "text/plain": [
       "     0    1\n",
       "0  130   87\n",
       "1   48  163"
      ]
     },
     "execution_count": 153,
     "metadata": {},
     "output_type": "execute_result"
    }
   ],
   "source": [
    "pd.DataFrame(confusion_matrix(test_target, test_predict))"
   ]
  },
  {
   "cell_type": "code",
   "execution_count": 154,
   "metadata": {
    "collapsed": false
   },
   "outputs": [
    {
     "name": "stdout",
     "output_type": "stream",
     "text": [
      "precision:  0.652\n",
      "   recall:  0.772511848341\n"
     ]
    }
   ],
   "source": [
    "print(\"precision: \",precision_score(test_target, test_predict))\n",
    "print(\"   recall: \",   recall_score(test_target, test_predict))"
   ]
  },
  {
   "cell_type": "markdown",
   "metadata": {},
   "source": [
    "# Conclusion"
   ]
  },
  {
   "cell_type": "code",
   "execution_count": null,
   "metadata": {
    "collapsed": true
   },
   "outputs": [],
   "source": []
  }
 ],
 "metadata": {
  "kernelspec": {
   "display_name": "Python 3",
   "language": "python",
   "name": "python3"
  },
  "language_info": {
   "codemirror_mode": {
    "name": "ipython",
    "version": 3
   },
   "file_extension": ".py",
   "mimetype": "text/x-python",
   "name": "python",
   "nbconvert_exporter": "python",
   "pygments_lexer": "ipython3",
   "version": "3.5.2"
  }
 },
 "nbformat": 4,
 "nbformat_minor": 0
}
