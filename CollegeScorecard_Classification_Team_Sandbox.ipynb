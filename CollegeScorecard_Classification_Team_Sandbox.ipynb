{
 "cells": [
  {
   "cell_type": "markdown",
   "metadata": {},
   "source": [
    "# MA755 - Team Sandbox\n",
    "\n",
    "Material from _Chapter 3. Classification_ of\n",
    "\n",
    ">\"[Hands-On Machine Learning with Scikit-Learn and TensorFlow](http://shop.oreilly.com/product/0636920052289.do)\"<br>\n",
    "by Aurélien Géron\n",
    "Published by O'Reilly Media, Inc., 2017\n",
    "\n",
    "Annotations, comments, and implementation on dataset by Angela Su, Tyler Miguel, Sebastian Bury"
   ]
  },
  {
   "cell_type": "markdown",
   "metadata": {},
   "source": [
    "# Introduction"
   ]
  },
  {
   "cell_type": "markdown",
   "metadata": {},
   "source": [
    "This is a College Scorecard dataset that gives various information about university and student level factors, such as college addmission, cost and finanaical aid, and student body demographics. This data is designed to \"increase transparency\" of \"college costs and outcomes\" to help students and families make informed decisions about the cost of furthering education. The data provided is aggregated at the institutional levels."
   ]
  },
  {
   "cell_type": "markdown",
   "metadata": {},
   "source": [
    "# Import Data\n",
    "\n",
    "We start by downloading the dataset from online. To do this, we created a function to download the data from the US Department of Education website and extract the files from the zip file."
   ]
  },
  {
   "cell_type": "code",
   "execution_count": 1,
   "metadata": {
    "collapsed": true
   },
   "outputs": [],
   "source": [
    "import os\n",
    "import zipfile\n",
    "from six.moves import urllib\n",
    "\n",
    "DOWNLOAD_ROOT = \"https://ed-public-download.apps.cloud.gov/\"\n",
    "COLLEGE_PATH = \"downloads\"\n",
    "COLLEGE_URL = DOWNLOAD_ROOT + COLLEGE_PATH + \"/CollegeScorecard_Raw_Data.zip\"\n",
    "TO_PATH = \"datasets/college\"\n",
    "\n",
    "def fetch_college_data(college_url=COLLEGE_URL, to_path=TO_PATH):\n",
    "    os.makedirs(to_path, exist_ok=True)\n",
    "    zip_path = os.path.join(to_path, \"CollegeScorecard_Raw_Data.zip\")\n",
    "    urllib.request.urlretrieve(college_url, zip_path)\n",
    "    college_zip = zipfile.ZipFile(zip_path)\n",
    "    college_zip.extractall(path=to_path)\n",
    "    college_zip.close()"
   ]
  },
  {
   "cell_type": "code",
   "execution_count": null,
   "metadata": {
    "collapsed": true
   },
   "outputs": [],
   "source": [
    "fetch_college_data() # only run if you don't already have the data local"
   ]
  },
  {
   "cell_type": "markdown",
   "metadata": {},
   "source": [
    "The file `CollegeScorecard_Raw_Data.zip` is downloaded into the `datasets/college` directory. The unzipped `CollegeScorecard_Raw_Data` is created in the same directory. The file `MERGED2012_13_PP.csv`, which contains the most recent earnings data from College Scorecard data is stored in the `CollegeScorecard_Raw_Data` directory. \n",
    "\n",
    "We will load `MERGED2012_13_PP.csv` into our notebook. Additionally, we will load `MERGED2014_15_PP.csv` into our notebook so that we can extract key descriptive information about the universities that is not present in the `MERGED2012_13_PP.csv` file. \n",
    "\n",
    "In addition to loading the CSV into our notebook, we will do some data cleaning within our `load_college_data()` function to ensure the data structure of the features in the CSV file. Specifically, we noticed the file contained the string value \"PrivacySuppressed\" in many numeric fields. We converted these to `NaN` values. Furthermore, some of the string values in our dataframe were not rendering correct, so we explicitly stated the `dtype` of three columns, `ZIP`, `NPCURL`, and `ALIAS`.\n"
   ]
  },
  {
   "cell_type": "code",
   "execution_count": 2,
   "metadata": {
    "collapsed": true
   },
   "outputs": [],
   "source": [
    "import pandas as pd\n",
    "\n",
    "def load_college_data(file, data_path=TO_PATH):\n",
    "    csv_path = os.path.join(data_path, \"CollegeScoreCard_Raw_Data\",\n",
    "                            file)\n",
    "    # return Panda DataFrame with all data\n",
    "    return pd.read_csv(csv_path, na_values = \"PrivacySuppressed\", \n",
    "                       dtype = {'ZIP':str,\n",
    "                                'NPCURL':str,\n",
    "                                'ALIAS':str})"
   ]
  },
  {
   "cell_type": "markdown",
   "metadata": {},
   "source": [
    "Load the data from the `MERGED2012_13_PP.csv` and `MERGED2014_15_PP.csv` file into a `DataFrame` Pandas object stored in `college`. "
   ]
  },
  {
   "cell_type": "code",
   "execution_count": 3,
   "metadata": {
    "collapsed": false
   },
   "outputs": [
    {
     "name": "stdout",
     "output_type": "stream",
     "text": [
      "<class 'pandas.core.frame.DataFrame'>\n"
     ]
    },
    {
     "data": {
      "text/html": [
       "<div>\n",
       "<table border=\"1\" class=\"dataframe\">\n",
       "  <thead>\n",
       "    <tr style=\"text-align: right;\">\n",
       "      <th></th>\n",
       "      <th>﻿UNITID</th>\n",
       "      <th>OPEID</th>\n",
       "      <th>OPEID6</th>\n",
       "      <th>INSTNM</th>\n",
       "      <th>CITY</th>\n",
       "      <th>STABBR</th>\n",
       "      <th>ZIP</th>\n",
       "      <th>ACCREDAGENCY</th>\n",
       "      <th>INSTURL</th>\n",
       "      <th>NPCURL</th>\n",
       "      <th>...</th>\n",
       "      <th>D100_L4</th>\n",
       "      <th>TRANS_4</th>\n",
       "      <th>DTRANS_4</th>\n",
       "      <th>TRANS_L4</th>\n",
       "      <th>DTRANS_L4</th>\n",
       "      <th>ICLEVEL</th>\n",
       "      <th>UGDS_MEN</th>\n",
       "      <th>UGDS_WOMEN</th>\n",
       "      <th>CDR3_DENOM</th>\n",
       "      <th>CDR2_DENOM</th>\n",
       "    </tr>\n",
       "  </thead>\n",
       "  <tbody>\n",
       "    <tr>\n",
       "      <th>0</th>\n",
       "      <td>100654</td>\n",
       "      <td>100200</td>\n",
       "      <td>1002</td>\n",
       "      <td>Alabama A &amp; M University</td>\n",
       "      <td>Normal</td>\n",
       "      <td>AL</td>\n",
       "      <td>35762</td>\n",
       "      <td>NaN</td>\n",
       "      <td>NaN</td>\n",
       "      <td>NaN</td>\n",
       "      <td>...</td>\n",
       "      <td>NaN</td>\n",
       "      <td>0.000000</td>\n",
       "      <td>1133.0</td>\n",
       "      <td>NaN</td>\n",
       "      <td>NaN</td>\n",
       "      <td>1</td>\n",
       "      <td>0.4879</td>\n",
       "      <td>0.5121</td>\n",
       "      <td>1405.0</td>\n",
       "      <td>1574.0</td>\n",
       "    </tr>\n",
       "    <tr>\n",
       "      <th>1</th>\n",
       "      <td>100663</td>\n",
       "      <td>105200</td>\n",
       "      <td>1052</td>\n",
       "      <td>University of Alabama at Birmingham</td>\n",
       "      <td>Birmingham</td>\n",
       "      <td>AL</td>\n",
       "      <td>35294-0110</td>\n",
       "      <td>NaN</td>\n",
       "      <td>NaN</td>\n",
       "      <td>NaN</td>\n",
       "      <td>...</td>\n",
       "      <td>NaN</td>\n",
       "      <td>0.290236</td>\n",
       "      <td>1485.0</td>\n",
       "      <td>NaN</td>\n",
       "      <td>NaN</td>\n",
       "      <td>1</td>\n",
       "      <td>0.4200</td>\n",
       "      <td>0.5800</td>\n",
       "      <td>3153.0</td>\n",
       "      <td>3481.0</td>\n",
       "    </tr>\n",
       "    <tr>\n",
       "      <th>2</th>\n",
       "      <td>100690</td>\n",
       "      <td>2503400</td>\n",
       "      <td>25034</td>\n",
       "      <td>Amridge University</td>\n",
       "      <td>Montgomery</td>\n",
       "      <td>AL</td>\n",
       "      <td>36117-3553</td>\n",
       "      <td>NaN</td>\n",
       "      <td>NaN</td>\n",
       "      <td>NaN</td>\n",
       "      <td>...</td>\n",
       "      <td>NaN</td>\n",
       "      <td>0.000000</td>\n",
       "      <td>1.0</td>\n",
       "      <td>NaN</td>\n",
       "      <td>NaN</td>\n",
       "      <td>1</td>\n",
       "      <td>0.4379</td>\n",
       "      <td>0.5621</td>\n",
       "      <td>264.0</td>\n",
       "      <td>336.0</td>\n",
       "    </tr>\n",
       "    <tr>\n",
       "      <th>3</th>\n",
       "      <td>100706</td>\n",
       "      <td>105500</td>\n",
       "      <td>1055</td>\n",
       "      <td>University of Alabama in Huntsville</td>\n",
       "      <td>Huntsville</td>\n",
       "      <td>AL</td>\n",
       "      <td>35899</td>\n",
       "      <td>NaN</td>\n",
       "      <td>NaN</td>\n",
       "      <td>NaN</td>\n",
       "      <td>...</td>\n",
       "      <td>NaN</td>\n",
       "      <td>0.307116</td>\n",
       "      <td>801.0</td>\n",
       "      <td>NaN</td>\n",
       "      <td>NaN</td>\n",
       "      <td>1</td>\n",
       "      <td>0.5425</td>\n",
       "      <td>0.4575</td>\n",
       "      <td>1208.0</td>\n",
       "      <td>1392.0</td>\n",
       "    </tr>\n",
       "    <tr>\n",
       "      <th>4</th>\n",
       "      <td>100724</td>\n",
       "      <td>100500</td>\n",
       "      <td>1005</td>\n",
       "      <td>Alabama State University</td>\n",
       "      <td>Montgomery</td>\n",
       "      <td>AL</td>\n",
       "      <td>36104-0271</td>\n",
       "      <td>NaN</td>\n",
       "      <td>NaN</td>\n",
       "      <td>NaN</td>\n",
       "      <td>...</td>\n",
       "      <td>NaN</td>\n",
       "      <td>0.000000</td>\n",
       "      <td>1298.0</td>\n",
       "      <td>NaN</td>\n",
       "      <td>NaN</td>\n",
       "      <td>1</td>\n",
       "      <td>0.4046</td>\n",
       "      <td>0.5954</td>\n",
       "      <td>1951.0</td>\n",
       "      <td>1961.0</td>\n",
       "    </tr>\n",
       "  </tbody>\n",
       "</table>\n",
       "<p>5 rows × 1743 columns</p>\n",
       "</div>"
      ],
      "text/plain": [
       "   ﻿UNITID    OPEID  OPEID6                               INSTNM        CITY  \\\n",
       "0   100654   100200    1002             Alabama A & M University      Normal   \n",
       "1   100663   105200    1052  University of Alabama at Birmingham  Birmingham   \n",
       "2   100690  2503400   25034                   Amridge University  Montgomery   \n",
       "3   100706   105500    1055  University of Alabama in Huntsville  Huntsville   \n",
       "4   100724   100500    1005             Alabama State University  Montgomery   \n",
       "\n",
       "  STABBR         ZIP  ACCREDAGENCY  INSTURL NPCURL     ...      D100_L4  \\\n",
       "0     AL       35762           NaN      NaN    NaN     ...          NaN   \n",
       "1     AL  35294-0110           NaN      NaN    NaN     ...          NaN   \n",
       "2     AL  36117-3553           NaN      NaN    NaN     ...          NaN   \n",
       "3     AL       35899           NaN      NaN    NaN     ...          NaN   \n",
       "4     AL  36104-0271           NaN      NaN    NaN     ...          NaN   \n",
       "\n",
       "    TRANS_4  DTRANS_4  TRANS_L4  DTRANS_L4  ICLEVEL  UGDS_MEN  UGDS_WOMEN  \\\n",
       "0  0.000000    1133.0       NaN        NaN        1    0.4879      0.5121   \n",
       "1  0.290236    1485.0       NaN        NaN        1    0.4200      0.5800   \n",
       "2  0.000000       1.0       NaN        NaN        1    0.4379      0.5621   \n",
       "3  0.307116     801.0       NaN        NaN        1    0.5425      0.4575   \n",
       "4  0.000000    1298.0       NaN        NaN        1    0.4046      0.5954   \n",
       "\n",
       "   CDR3_DENOM  CDR2_DENOM  \n",
       "0      1405.0      1574.0  \n",
       "1      3153.0      3481.0  \n",
       "2       264.0       336.0  \n",
       "3      1208.0      1392.0  \n",
       "4      1951.0      1961.0  \n",
       "\n",
       "[5 rows x 1743 columns]"
      ]
     },
     "execution_count": 3,
     "metadata": {},
     "output_type": "execute_result"
    }
   ],
   "source": [
    "college_1213 = load_college_data(file='MERGED2012_13_PP.csv')\n",
    "college_1415 = load_college_data(file='MERGED2014_15_PP.csv')\n",
    "print(type(college_1213))\n",
    "college_1213.head()"
   ]
  },
  {
   "cell_type": "markdown",
   "metadata": {},
   "source": [
    "Each row is an institution with 1743 attributes as columns."
   ]
  },
  {
   "cell_type": "code",
   "execution_count": 4,
   "metadata": {
    "collapsed": false
   },
   "outputs": [
    {
     "name": "stdout",
     "output_type": "stream",
     "text": [
      "<class 'pandas.core.frame.DataFrame'>\n",
      "RangeIndex: 7793 entries, 0 to 7792\n",
      "Columns: 1743 entries, ﻿UNITID to CDR2_DENOM\n",
      "dtypes: float64(1724), int64(11), object(8)\n",
      "memory usage: 103.6+ MB\n"
     ]
    }
   ],
   "source": [
    "college_1213.info()"
   ]
  },
  {
   "cell_type": "markdown",
   "metadata": {},
   "source": [
    "This `.info()` method returns a brief description of the dataset, with each attribute from the columns and the type of the object. For example, we can see that the data in our college dataframe has 1724 float attributes, 11 integer attributes, and 8 object attributes (in our case, string or factor attributes)."
   ]
  },
  {
   "cell_type": "markdown",
   "metadata": {},
   "source": [
    "# Variable Selection\n",
    "\n",
    "Given the size of our dataset, we utilized the [College Data Documentation Report](http://https://collegescorecard.ed.gov/data/documentation/) to select our variables of interest. From this document, we were able to select variables of interest to answer our research question: how can we predict the Median income of a student 10 years out of college by using university factors. \n",
    "\n",
    "\n",
    "The variables we selected are:\n",
    "\n",
    "University Description:\n",
    "- INSTNM (institution name)\n",
    "- CITY (the city of the school)\n",
    "- STABBR (state postcode)\n",
    "- ZIP (zip code)\n",
    "- LATITUDE (latitude of location)\n",
    "- LONGITUDE (longitude of location)\n",
    "\n",
    "Features:\n",
    "Factor variables\n",
    "- ADM_RATE (admission rate as a percent)\n",
    "--- turn into binaray (highly selective, selective, moderate, less than, non-selective\n",
    "- MAIN (flag for main campus)\n",
    "--- main branch\n",
    "- ICLEVEL (highest level of award: 4-year, 2-year, less than 2-year)\n",
    "--- level of school\n",
    "- Control (Public, Private Non-profit, or Private For-Profit)\n",
    "--- whether it is public or non\n",
    "- HBCU= Historically black college\n",
    "- PBI= Predominantly black college\n",
    "- ANNHI= Alaska Native-/Native Hawaiian-serving Institutions\n",
    "- TRIBAL= Tribal Colleges and Universities\n",
    "- AANAPII= Asian American-/Native American-Pacific Islander-serving Institutions\n",
    "- HSI= Hispanic-serving Institutions\n",
    "- NANTI= Native American Non-Tribal-serving institution\n",
    "\n",
    "Label data: \n",
    "- MN_EARN_WNE_P10 (Mean Earnings 10 years after college)\n",
    "\n",
    "The university description variables were chosen to give a basic idea of the universty name and location, both the geographic latitude and longitude as well as city and zip in the state. The factor variables such as admission rate, level of award, and public/private can be correlated to see how these influence median income later for a student on in life. These basic factors were chosen since they give a profile of the school and could relate to later success, as do labels like \"historically black college\" and other racial indiciators. \n",
    "\n",
    "Due to the avaialable data in the `MERGED2012_13_PP.csv`, we had to load the `MERGED2014_15_PP.csv` file to extract longitude, latitude, HBCU, PBI, ANNHI, TRIBAL, AANAPII, HSI, and the NANT variables."
   ]
  },
  {
   "cell_type": "markdown",
   "metadata": {},
   "source": [
    "Below, we used both files to extract data and combine to what we will use moving forward. We will extract description data and the data we will use to explore relationships."
   ]
  },
  {
   "cell_type": "code",
   "execution_count": 5,
   "metadata": {
    "collapsed": true
   },
   "outputs": [],
   "source": [
    "inst_1213 = college_1213.loc[:,['INSTNM','CITY','STABBR',\n",
    "                                     'ZIP','ADM_RATE', \n",
    "                                     'MAIN','ICLEVEL',\n",
    "                                     'CONTROL','MN_EARN_WNE_P10']]\n",
    "\n",
    "inst_1415 = college_1415.loc[:, ['INSTNM', 'HBCU','PBI',\n",
    "                                 'ANNHI', 'TRIBAL','AANAPII',\n",
    "                                 'HSI', 'NANTI', 'LATITUDE','LONGITUDE']]\n",
    "\n",
    "college = pd.merge(inst_1213, inst_1415, on=['INSTNM'])"
   ]
  },
  {
   "cell_type": "markdown",
   "metadata": {},
   "source": [
    "Now that we have the variables we want, we will look take a look at our data set and check for missing values"
   ]
  },
  {
   "cell_type": "markdown",
   "metadata": {},
   "source": [
    "# Remove missing data"
   ]
  },
  {
   "cell_type": "code",
   "execution_count": null,
   "metadata": {
    "collapsed": true
   },
   "outputs": [],
   "source": []
  }
 ],
 "metadata": {
  "kernelspec": {
   "display_name": "Python 3",
   "language": "python",
   "name": "python3"
  },
  "language_info": {
   "codemirror_mode": {
    "name": "ipython",
    "version": 3
   },
   "file_extension": ".py",
   "mimetype": "text/x-python",
   "name": "python",
   "nbconvert_exporter": "python",
   "pygments_lexer": "ipython3",
   "version": "3.5.2"
  }
 },
 "nbformat": 4,
 "nbformat_minor": 0
}
